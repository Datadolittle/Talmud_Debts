{
 "cells": [
  {
   "cell_type": "markdown",
   "metadata": {},
   "source": [
    "## Ketubot 93a"
   ]
  },
  {
   "cell_type": "markdown",
   "metadata": {},
   "source": [
    "### Debt and Estate"
   ]
  },
  {
   "cell_type": "code",
   "execution_count": 293,
   "metadata": {},
   "outputs": [],
   "source": [
    "Estate = 750\n",
    "Debts = [200, 100, 300, 100, 100]"
   ]
  },
  {
   "cell_type": "markdown",
   "metadata": {},
   "source": [
    "### Load Libraries and Functions"
   ]
  },
  {
   "cell_type": "code",
   "execution_count": 294,
   "metadata": {},
   "outputs": [],
   "source": [
    "## Order the debts from lowest to highest\n",
    "Debts.sort()\n",
    "\n",
    "from collections import OrderedDict\n",
    "\n",
    "## Divide the Estate equally among all parties until lowest creditor recieve 1/2 of claim\n",
    "Number_of_Creditors = len(Debts)\n",
    "Amount_of_Debts = sum(Debts)\n",
    "if Estate >= Amount_of_Debts:\n",
    "    print(\"Enough in Estate for all debts\")\n",
    "Even_Split = Estate/Number_of_Creditors\n",
    "    \n",
    "    \n",
    "## Generate Functions for adding to dictionary\n",
    "def add_one(d):\n",
    "    for key, value in d.items():\n",
    "        d[key] += 1 \n",
    "    return(d)\n",
    "\n",
    "def add_float(d, remaining, creditors):\n",
    "    percentage = remaining/float(creditors)\n",
    "    for key, value in d.items():\n",
    "        d[key] += percentage \n",
    "    return(d)\n",
    "\n",
    "\n",
    "def getKeysByValues(d, value):\n",
    "    keys = list()\n",
    "    items = d.items()\n",
    "    for item in items:\n",
    "        if item[1] == value:\n",
    "            keys.append(item[0])\n",
    "            \n",
    "    return(keys)"
   ]
  },
  {
   "cell_type": "markdown",
   "metadata": {},
   "source": [
    "### Assign equally until lower creditor receives half\n",
    "Start with the lowest creditor than repeat until the estate is gone or all parties receive half. "
   ]
  },
  {
   "cell_type": "code",
   "execution_count": 295,
   "metadata": {},
   "outputs": [
    {
     "data": {
      "text/plain": [
       "OrderedDict([('0_100', 50),\n",
       "             ('1_100', 50),\n",
       "             ('2_100', 50),\n",
       "             ('3_200', 100),\n",
       "             ('4_300', 150)])"
      ]
     },
     "execution_count": 295,
     "metadata": {},
     "output_type": "execute_result"
    }
   ],
   "source": [
    "Amount_Recieved = OrderedDict()\n",
    "\n",
    "for i, x in enumerate(Debts):\n",
    "    Creditor = Debts[i]\n",
    "    Amount_Recieved[str(i)+'_'+str(Creditor)] = 0\n",
    "\n",
    "\n",
    "\n",
    "Creditor_Payout = Amount_Recieved.copy()\n",
    "\n",
    "for item in range(len(Creditor_Payout)):\n",
    "    while True:\n",
    "        if Estate <= 0:\n",
    "            break\n",
    "        if Estate < len(Amount_Recieved):\n",
    "            add_float(Amount_Recieved, Estate, len(Amount_Recieved))\n",
    "            Estate = 0\n",
    "            break\n",
    "        else:\n",
    "            s = list(Amount_Recieved)\n",
    "            if Amount_Recieved.get(s[0]) > (float(s[0].split(\"_\")[1])/2)-1:\n",
    "                break\n",
    "            Estate -= len(Amount_Recieved)\n",
    "            add_one(Amount_Recieved)\n",
    "        \n",
    "    Creditor_Payout.update(Amount_Recieved)\n",
    "    q = Amount_Recieved.popitem(last=False)\n",
    "Creditor_Payout"
   ]
  },
  {
   "cell_type": "markdown",
   "metadata": {},
   "source": [
    "### Give the highest claimed money from the estate until loss equals the next highest creditor"
   ]
  },
  {
   "cell_type": "code",
   "execution_count": 296,
   "metadata": {},
   "outputs": [],
   "source": [
    "while True:\n",
    "    if Estate <= 0:\n",
    "        print(\"Estate is empty\")\n",
    "        break\n",
    "    else:\n",
    "        values = []\n",
    "        loss_values = dict()\n",
    "        for key, value in Creditor_Payout.items():\n",
    "            values.append(int(key.split(\"_\")[1])-value)\n",
    "            loss_values[key] = int(key.split(\"_\")[1])-value\n",
    "\n",
    "        values = list(set(values))\n",
    "        greatest_loss = values[-1]\n",
    "        if len(values) > 1:\n",
    "            second_loss = values[-2]\n",
    "            difference = greatest_loss - second_loss\n",
    "            loss_duplicates = sum(x == greatest_loss for x in loss_values.values())\n",
    "            diff_amount = difference*loss_duplicates\n",
    "            if Estate-diff_amount>=0:\n",
    "                ## Update to make losses of highest equal to second highest\n",
    "                x = getKeysByValues(loss_values, greatest_loss)\n",
    "                for item in x:\n",
    "                    Creditor_Payout[item] += difference\n",
    "                    Estate -= difference\n",
    "            else:\n",
    "                ## Update when by one so losses are equal\n",
    "                wanted_keys = getKeysByValues(loss_values, greatest_loss)\n",
    "                Amount_Recieved = dict((k, Creditor_Payout[k]) for k in wanted_keys if k in Creditor_Payout)\n",
    "                while True:\n",
    "                    if Estate < len(Amount_Recieved):\n",
    "                        add_float(Amount_Recieved, Estate, len(Amount_Recieved))\n",
    "                        Estate = 0\n",
    "                        break\n",
    "                    else:\n",
    "                        s = list(Amount_Recieved)\n",
    "                        Estate -= len(Amount_Recieved)\n",
    "                        add_one(Amount_Recieved)\n",
    "                        \n",
    "                Creditor_Payout.update(Amount_Recieved)\n",
    "                break       \n",
    "        else:\n",
    "            ## Update when all losses are equal\n",
    "            wanted_keys = getKeysByValues(loss_values, greatest_loss)\n",
    "            Amount_Recieved = dict((k, Creditor_Payout[k]) for k in wanted_keys if k in Creditor_Payout)\n",
    "            while True:\n",
    "                if Estate < len(Amount_Recieved):\n",
    "                    add_float(Amount_Recieved, Estate, len(Amount_Recieved))\n",
    "                    Estate = 0\n",
    "                    break\n",
    "                else:\n",
    "                    s = list(Amount_Recieved)\n",
    "                    Estate -= len(Amount_Recieved)\n",
    "                    add_one(Amount_Recieved)\n",
    "                        \n",
    "            Creditor_Payout.update(Amount_Recieved)\n",
    "            break"
   ]
  },
  {
   "cell_type": "markdown",
   "metadata": {},
   "source": [
    "### Output"
   ]
  },
  {
   "cell_type": "code",
   "execution_count": 297,
   "metadata": {},
   "outputs": [
    {
     "data": {
      "text/plain": [
       "OrderedDict([('0_100', 90.0),\n",
       "             ('1_100', 90.0),\n",
       "             ('2_100', 90.0),\n",
       "             ('3_200', 190.0),\n",
       "             ('4_300', 290.0)])"
      ]
     },
     "execution_count": 297,
     "metadata": {},
     "output_type": "execute_result"
    }
   ],
   "source": [
    "Creditor_Payout"
   ]
  },
  {
   "cell_type": "code",
   "execution_count": null,
   "metadata": {},
   "outputs": [],
   "source": []
  }
 ],
 "metadata": {
  "kernelspec": {
   "display_name": "Python 3",
   "language": "python",
   "name": "python3"
  },
  "language_info": {
   "codemirror_mode": {
    "name": "ipython",
    "version": 3
   },
   "file_extension": ".py",
   "mimetype": "text/x-python",
   "name": "python",
   "nbconvert_exporter": "python",
   "pygments_lexer": "ipython3",
   "version": "3.6.7"
  },
  "toc": {
   "base_numbering": 1,
   "nav_menu": {},
   "number_sections": true,
   "sideBar": true,
   "skip_h1_title": false,
   "title_cell": "Table of Contents",
   "title_sidebar": "Contents",
   "toc_cell": false,
   "toc_position": {},
   "toc_section_display": true,
   "toc_window_display": false
  }
 },
 "nbformat": 4,
 "nbformat_minor": 2
}
